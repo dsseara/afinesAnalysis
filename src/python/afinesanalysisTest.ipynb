{
 "cells": [
  {
   "cell_type": "markdown",
   "metadata": {},
   "source": [
    "This notebook is meant to test the functions written in python to analyze AFiNES simulation output. It's going to be messy, but so it goes..."
   ]
  },
  {
   "cell_type": "code",
   "execution_count": null,
   "metadata": {
    "collapsed": false
   },
   "outputs": [],
   "source": [
    "import os\n",
    "import numpy as np\n",
    "import matplotlib.pyplot as plt\n",
    "import matplotlib as mpl\n",
    "%matplotlib notebook\n",
    "import pandas as pd\n",
    "import h5py\n",
    "import afinesanalysis.afinesanalysis as aa"
   ]
  },
  {
   "cell_type": "markdown",
   "metadata": {},
   "source": [
    "First a test of the readData function that reads in .txt files output by afines. Right now (9/12/2017) this only works for actins.txt"
   ]
  },
  {
   "cell_type": "code",
   "execution_count": null,
   "metadata": {
    "collapsed": true
   },
   "outputs": [],
   "source": [
    "# Change this line if on a different system\n",
    "dataFolder = '/media/daniel/storage1/local_LLM_Danny/rupture/a-1.0-p-1.0/txt_stack/'\n",
    "filename = 'actins.txt'\n",
    "dt = 1\n",
    "domainSize = 50\n",
    "nbins = 10\n",
    "minpts = 10\n",
    "dr = 1\n",
    "rbfFunc = 'gaussian'\n",
    "rbfEps = 5\n",
    "savestuff = False\n",
    "nGridPts = np.ceil(domainSize/dr) + 1\n",
    "txy = aa.readData(dataFolder, filename)"
   ]
  },
  {
   "cell_type": "code",
   "execution_count": null,
   "metadata": {
    "collapsed": false
   },
   "outputs": [],
   "source": [
    "# Load in hdf5 file\n",
    "\n",
    "actinData = h5py.File(os.path.join(dataFolder, 'actinsParsed.hdf5'), 'a')\n",
    "actins = actinData.create_dataset('actinData', data=txy)"
   ]
  },
  {
   "cell_type": "code",
   "execution_count": null,
   "metadata": {
    "collapsed": false
   },
   "outputs": [],
   "source": [
    "del actinData"
   ]
  },
  {
   "cell_type": "markdown",
   "metadata": {},
   "source": [
    "Now calculate the velocity divergence. This is essentially stolen from [here](https://github.com/Simfreed/AFINES/blob/master/versatile_framework_paper/python/div_by_vbin.py#L84)"
   ]
  },
  {
   "cell_type": "code",
   "execution_count": null,
   "metadata": {
    "collapsed": false
   },
   "outputs": [],
   "source": [
    "# Don't include the id data when getting the divergence\n",
    "[xx, yy, uut, vvt] = aa.interpolateVelocity(txy[:,:,:2], dt, domainSize, nbins, minpts, dr, rbfFunc, rbfEps, savestuff)"
   ]
  },
  {
   "cell_type": "code",
   "execution_count": null,
   "metadata": {
    "collapsed": false,
    "scrolled": true
   },
   "outputs": [],
   "source": [
    "divV = aa.massWeightedVelocityDivergence(txy[:,:,:2], uut, vvt, dt)"
   ]
  },
  {
   "cell_type": "code",
   "execution_count": null,
   "metadata": {
    "collapsed": false
   },
   "outputs": [],
   "source": [
    "interpedXVel = actinData.create_dataset('interpedXVel', data=uut)\n",
    "interpedYVel = actinData.create_dataset('interpedYVel', data=vvt)\n",
    "xGrid = actinData.create_dataset('xGrid', data=xx)\n",
    "yGrid = actinData.create_dataset('yGrid', data=yy)"
   ]
  },
  {
   "cell_type": "code",
   "execution_count": null,
   "metadata": {
    "collapsed": false
   },
   "outputs": [],
   "source": [
    "actinData.close()"
   ]
  },
  {
   "cell_type": "code",
   "execution_count": null,
   "metadata": {
    "collapsed": false
   },
   "outputs": [],
   "source": [
    "divV[::10].shape"
   ]
  },
  {
   "cell_type": "code",
   "execution_count": null,
   "metadata": {
    "collapsed": false,
    "scrolled": false
   },
   "outputs": [],
   "source": [
    "fig, ax = plt.subplots()\n",
    "ax.plot(np.linspace(1,99,100), divV[::10])\n",
    "ax.set_xlabel('time (s)')\n",
    "ax.set_ylabel(r'$\\int \\rho \\langle \\nabla \\cdot \\vec{v} \\rangle$')\n",
    "\n",
    "fig.savefig(os.path.join(dataFolder, 'divergence.png'))"
   ]
  },
  {
   "cell_type": "code",
   "execution_count": null,
   "metadata": {
    "collapsed": false
   },
   "outputs": [],
   "source": [
    "fig, ax = plt.subplots()\n",
    "ax.pcolor(xx,yy,massWeight.T)\n",
    "ax.set_aspect('equal')"
   ]
  },
  {
   "cell_type": "code",
   "execution_count": null,
   "metadata": {
    "collapsed": false
   },
   "outputs": [],
   "source": [
    "fig, ax = plt.subplots()\n",
    "ax.quiver(xx, yy ,uut[-10,...], vvt[-10,...])"
   ]
  },
  {
   "cell_type": "code",
   "execution_count": null,
   "metadata": {
    "collapsed": false
   },
   "outputs": [],
   "source": [
    "divergence = np.gradient(uut)[2] + np.gradient(vvt)[1]\n",
    "curl = np.gradient(uut)[2] * np.gradient(vvt)[1] - np.gradient(uut)[1] + np.gradient(vvt)[2]"
   ]
  },
  {
   "cell_type": "code",
   "execution_count": null,
   "metadata": {
    "collapsed": false
   },
   "outputs": [],
   "source": [
    "np.sum(divergence[200,...])"
   ]
  },
  {
   "cell_type": "code",
   "execution_count": null,
   "metadata": {
    "collapsed": false
   },
   "outputs": [],
   "source": [
    "for frame, div in enumerate(divergence[::10,...]):\n",
    "    fig, ax = plt.subplots()\n",
    "    cax1 = ax.pcolor(xx,yy, div, cmap='cool', vmax=0.3, vmin=-0.3)\n",
    "    ax.set_aspect('equal')\n",
    "    ax.quiver(xx,yy, uut[frame,...], vvt[frame,...])\n",
    "    cbar1 = fig.colorbar(cax1, ax=ax)\n",
    "    ax.set_xlabel('x ($\\mu$m)')\n",
    "    ax.set_ylabel('y ($\\mu$m)')\n",
    "    ax.set_title('Divergence Field, sum=%2f' % np.sum(div))\n",
    "    fig.tight_layout()\n",
    "    fig.savefig(os.path.join(dataFolder, 'frame{0}.png'.format(frame)))\n"
   ]
  },
  {
   "cell_type": "code",
   "execution_count": null,
   "metadata": {
    "collapsed": false
   },
   "outputs": [],
   "source": [
    "fig, ax = plt.subplots()\n",
    "divergenceSeries = -np.nansum(np.nansum(divergence, axis=2), axis=1)\n",
    "\n",
    "plt.plot(divergenceSeries)"
   ]
  },
  {
   "cell_type": "code",
   "execution_count": null,
   "metadata": {
    "collapsed": false,
    "scrolled": false
   },
   "outputs": [],
   "source": [
    "#fig, ax = plt.subplots()\n",
    "#cax1 = ax.pcolor(xx, yy, divergence, cmap='inferno')\n",
    "#ax.set_aspect('equal')\n",
    "#ax.quiver(xx,yy, uu, vv)\n",
    "#cbar1 = fig.colorbar(cax1, ax=ax)\n",
    "#ax.set_xlabel('x ($\\mu$m)')\n",
    "#ax.set_ylabel('y ($\\mu$m)')\n",
    "#ax.set_title('Divergence Field, sum=%2f' % np.sum(divergence))\n",
    "#fig.tight_layout()"
   ]
  },
  {
   "cell_type": "code",
   "execution_count": null,
   "metadata": {
    "collapsed": false
   },
   "outputs": [],
   "source": [
    "#fig, ax = plt.subplots()\n",
    "#cax2 = ax.pcolor(xx, yy, curl, cmap='cool')\n",
    "#ax.quiver(xx,yy,uu,vv)\n",
    "#ax.set_aspect('equal')\n",
    "#cbar2 = fig.colorbar(cax2, ax=ax)\n",
    "#ax.set_xlabel('x ($\\mu$m)')\n",
    "#ax.set_ylabel('y ($\\mu$m)')\n",
    "#ax.set_title('Curl Field, sum=%2f' % np.sum(curl))\n",
    "#fig.tight_layout()"
   ]
  },
  {
   "cell_type": "code",
   "execution_count": null,
   "metadata": {
    "collapsed": true
   },
   "outputs": [],
   "source": []
  }
 ],
 "metadata": {
  "kernelspec": {
   "display_name": "Python 3",
   "language": "python",
   "name": "python3"
  },
  "language_info": {
   "codemirror_mode": {
    "name": "ipython",
    "version": 3
   },
   "file_extension": ".py",
   "mimetype": "text/x-python",
   "name": "python",
   "nbconvert_exporter": "python",
   "pygments_lexer": "ipython3",
   "version": "3.6.0"
  }
 },
 "nbformat": 4,
 "nbformat_minor": 2
}
